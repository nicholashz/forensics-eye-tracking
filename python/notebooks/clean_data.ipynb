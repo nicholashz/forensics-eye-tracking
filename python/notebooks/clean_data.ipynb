{
 "cells": [
  {
   "cell_type": "code",
   "execution_count": 1,
   "metadata": {},
   "outputs": [],
   "source": [
    "import os\n",
    "import random\n",
    "\n",
    "import imagesize\n",
    "import matplotlib.pyplot as plt\n",
    "import numpy as np\n",
    "import pandas as pd\n",
    "import seaborn as sns\n",
    "from sklearn import model_selection\n",
    "from tqdm import tqdm"
   ]
  },
  {
   "cell_type": "code",
   "execution_count": 2,
   "metadata": {},
   "outputs": [],
   "source": [
    "def train_test_split(df, on, ratio, seed=None):\n",
    "    \"\"\"\n",
    "    Splits the df into train/test, disjoint on values in columns given by param 'on'.\n",
    "    The param 'ratio' splits the unique values in each column by that ratio, so the returned\n",
    "    sets may have a different ratio overall.\n",
    "\n",
    "    :param df: pandas dataframe\n",
    "    :param on: list or str, column names\n",
    "    :param ratio: float, train/test split ratio on each column\n",
    "    :param seed: int, random seed for shuffling\n",
    "    \"\"\"\n",
    "\n",
    "    if isinstance(on, str):\n",
    "        on = [on]\n",
    "    assert isinstance(on, list)\n",
    "\n",
    "    train_df = df.copy()\n",
    "    test_df = df.copy()\n",
    "\n",
    "    random.seed(seed)\n",
    "    for col in on:\n",
    "        unique_elems = df[col].unique().tolist()\n",
    "        random.shuffle(unique_elems)\n",
    "\n",
    "        train_num = int(ratio * len(unique_elems))\n",
    "        train = unique_elems[:train_num]\n",
    "        test = unique_elems[train_num:]\n",
    "\n",
    "        train_df = train_df[train_df[col].isin(train)]\n",
    "        test_df = test_df[test_df[col].isin(test)]\n",
    "\n",
    "    return train_df, test_df"
   ]
  },
  {
   "cell_type": "code",
   "execution_count": 3,
   "metadata": {},
   "outputs": [],
   "source": [
    "# Define 'apply' funcs\n",
    "def stdev_2d(df):\n",
    "    assert df.shape[1] == 2\n",
    "    x = df.values[:, 0] / 22\n",
    "    y = df.values[:, 1] / 22\n",
    "    stdev_2d = np.sqrt(np.mean(np.square(x - x.mean()) + np.square(y - y.mean())))\n",
    "    \n",
    "    return stdev_2d\n",
    "\n",
    "def compute_fixes_before_switch(df):\n",
    "    x = df[df[\"Switched\"] == 1].index.values\n",
    "    fixes_before_switch = x[1:] - x[:-1]\n",
    "    return np.mean(fixes_before_switch)"
   ]
  },
  {
   "cell_type": "code",
   "execution_count": 4,
   "metadata": {},
   "outputs": [],
   "source": [
    "links_str = \"TempSeq\" \\\n",
    "    + \"Fits_\" \\\n",
    "    + \"DetailBF88_\" \\\n",
    "    + \"IncRLTrans_\" \\\n",
    "    + \"UseLstFrstClust_\" \\\n",
    "    + \"BW22\"\n",
    "stats_cols = [\n",
    "    \"ImagePair\",\n",
    "    \"Examiner\",\n",
    "    \"Prefix\",\n",
    "    \"Mating\",\n",
    "    \"Outcome\",\n",
    "    \"Difficulty\",\n",
    "    \"Trial\",\n",
    "    \"Conclusion-Simple\",\n",
    "    \"AllIndvClustLinksFoundBW60\",\n",
    "    \"PctClarRedYellow\",\n",
    "    \"PctClarGreen\",\n",
    "    \"PctClarBlue\",\n",
    "    \"EMDDistanceToCorrect_C_Left\",\n",
    "    \"EMDDistanceToCorrect_C_Right\",\n",
    "    \"EMDDistanceJustDecidingToCorrect_C_Left\",\n",
    "    \"EMDDistanceJustDecidingToCorrect_C_Right\",\n",
    "    \"EMDLeftCToRightCSelf\",\n",
    "    \"EMDLeftCToRightCSelfDeciding\",\n",
    "#     \"AveRawCorrWeight\" + links_str,\n",
    "#     \"RawNumHighQualityLinks\" + links_str,\n",
    "#     \"RawTotalLinks\" + links_str,\n",
    "#     \"RawRatioHighQuality\" + links_str,\n",
    "#     \"tCirc\" + links_str,\n",
    "#     \"ActivConc\" + links_str,\n",
    "#     \"Angle\" + links_str,\n",
    "#     \"Scale\" + links_str,\n",
    "#     \"RelativeAngle\" + links_str,\n",
    "#     \"AveMinDist\" + links_str,\n",
    "    \"AveDeviationFromGroundTruthTempSeqFits_Detail_JstUnq_NormTransMat_NoClusterPrune_BW66_Thresh0.3InRidgeWidths\",\n",
    "    \"AveDeviationFromGroundTruthTempSeqFits_Detail_JstUnq_NormTransMat_NoClusterPrune_BW66_Thresh0.3\",\n",
    "    \"NumHighQualityLinksTempSeqFits_Detail_JstUnq_NormTransMat_NoClusterPrune_BW66_Thresh0.3\",\n",
    "    \"AnalysisPercentVisitedCellsVisitedLatent\",\n",
    "    \"ComparePercentVisitedCellsVisitedLatent\",\n",
    "    \"AnalysisPropFixNearWBMinutiaK=22\",\n",
    "    \"ComparisonPropFixNearWBMinutiaK=22\"\n",
    "]\n",
    "df = pd.read_csv(os.path.join(\"..\", \"data\", \"CwCeTrialStats_20200324.csv\"), usecols=stats_cols)\n",
    "df[\"TrialCode\"] = df[\"ImagePair\"] + \"_\" + df[\"Examiner\"]\n",
    "df = df.drop(columns=[\"ImagePair\", \"Examiner\"])"
   ]
  },
  {
   "cell_type": "code",
   "execution_count": 5,
   "metadata": {},
   "outputs": [],
   "source": [
    "fixation_cols = [\n",
    "    \"ImagePair\",\n",
    "    \"Examiner\",\n",
    "    \"Image\",\n",
    "    \"Phase\",\n",
    "    \"TimeInPhase\",\n",
    "    \"Subphase\",\n",
    "    \"FixX\",\n",
    "    \"FixY\",\n",
    "    \"Speed\",\n",
    "    \"DistanceOfPriorSaccade\"\n",
    "]\n",
    "fixations_df = pd.read_csv(os.path.join(\"..\", \"data\", \"CwCe_OK_Fixations_20180703.csv\"), usecols=fixation_cols)\n",
    "fixations_df[\"TrialCode\"] = fixations_df[\"ImagePair\"] + \"_\" + fixations_df[\"Examiner\"]\n",
    "fixations_df = fixations_df.drop(columns=[\"ImagePair\", \"Examiner\"])"
   ]
  },
  {
   "cell_type": "code",
   "execution_count": 6,
   "metadata": {},
   "outputs": [],
   "source": [
    "# Drop NV trials\n",
    "df = df[df[\"Outcome\"] != \"NV\"]"
   ]
  },
  {
   "cell_type": "code",
   "execution_count": 7,
   "metadata": {},
   "outputs": [],
   "source": [
    "# Map categorical features\n",
    "df[\"Prefix\"] = df[\"Prefix\"].map({\"CE\": 0, \"CW\": 1})"
   ]
  },
  {
   "cell_type": "code",
   "execution_count": 8,
   "metadata": {},
   "outputs": [
    {
     "name": "stdout",
     "output_type": "stream",
     "text": [
      "AveDeviationFromGroundTruthTempSeqFits_Detail_JstUnq_NormTransMat_NoClusterPrune_BW66_Thresh0.3InRidgeWidths 0.636978579481398\n",
      "AveDeviationFromGroundTruthTempSeqFits_Detail_JstUnq_NormTransMat_NoClusterPrune_BW66_Thresh0.3 0.636978579481398\n",
      "NumHighQualityLinksTempSeqFits_Detail_JstUnq_NormTransMat_NoClusterPrune_BW66_Thresh0.3 0.3337091319052988\n",
      "AnalysisPropFixNearWBMinutiaK=22 0.39177001127395716\n",
      "ComparisonPropFixNearWBMinutiaK=22 0.39177001127395716\n"
     ]
    }
   ],
   "source": [
    "for col in df.columns:\n",
    "    pct_null = df[col].isnull().sum() / df.shape[0]\n",
    "    if pct_null > 0.3:\n",
    "        print(col, pct_null)"
   ]
  },
  {
   "cell_type": "code",
   "execution_count": 9,
   "metadata": {},
   "outputs": [],
   "source": [
    "# Fill with specific value\n",
    "fixations_df[\"Subphase\"] = fixations_df[\"Subphase\"].fillna(\"na\")\n",
    "\n",
    "# Fill NaN links with 0\n",
    "df[\"NumHighQualityLinksTempSeqFits_Detail_JstUnq_NormTransMat_NoClusterPrune_BW66_Thresh0.3\"] = df[\"NumHighQualityLinksTempSeqFits_Detail_JstUnq_NormTransMat_NoClusterPrune_BW66_Thresh0.3\"].fillna(0)"
   ]
  },
  {
   "cell_type": "code",
   "execution_count": 10,
   "metadata": {},
   "outputs": [],
   "source": [
    "# Onehot encode categorical variables\n",
    "fixations_df = pd.get_dummies(fixations_df, columns=[\"Subphase\"])"
   ]
  },
  {
   "cell_type": "code",
   "execution_count": 11,
   "metadata": {},
   "outputs": [],
   "source": [
    "# Map difficulty to [0, 1]\n",
    "difficulty_map = {\"VeryEasy\": 0, \"Easy\": 0.25, \"Moderate\": 0.5, \"Difficult\": 0.75, \"VeryDifficult\": 1}\n",
    "df[\"Difficulty\"] = df[\"Difficulty\"].map(difficulty_map)"
   ]
  },
  {
   "cell_type": "code",
   "execution_count": 12,
   "metadata": {},
   "outputs": [],
   "source": [
    "grouped_fixations = fixations_df.groupby(\"TrialCode\")"
   ]
  },
  {
   "cell_type": "code",
   "execution_count": 13,
   "metadata": {},
   "outputs": [
    {
     "name": "stderr",
     "output_type": "stream",
     "text": [
      "/Users/busey/Box Sync/NoblisEyetracking/WBEyetrackingSecondPaper/DataForSI/PythonCodeForVisualizations/venv/lib/python3.7/site-packages/ipykernel_launcher.py:14: FutureWarning: Indexing with multiple keys (implicitly converted to a tuple of keys) will be deprecated, use a list instead.\n",
      "  \n"
     ]
    }
   ],
   "source": [
    "# Fixation counts\n",
    "num_fixations = grouped_fixations.count().max(axis=1).reset_index()\n",
    "num_fixations.columns = [\"TrialCode\", \"Num Fixations\"]\n",
    "df = df.merge(num_fixations, on=\"TrialCode\")\n",
    "\n",
    "for image, phase in [(\"Left\", \"A\"), (\"Left\", \"C\"), (\"Right\", \"C\")]:\n",
    "    fixations = fixations_df[(fixations_df[\"Image\"] == image) & (fixations_df[\"Phase\"] == phase)]\n",
    "\n",
    "    # Count fixations in each image/phase\n",
    "    num_fixations = fixations.groupby(\"TrialCode\").count().max(axis=1).reset_index()\n",
    "    num_fixations.columns = [\"TrialCode\", f\"Pct {phase}-{image} Fixations\"]\n",
    "    \n",
    "    # Calculate spread of fixations in image image/phase\n",
    "    fix_stdevs = fixations.groupby(\"TrialCode\")[\"FixX\", \"FixY\"].apply(stdev_2d).reset_index()\n",
    "    fix_stdevs.columns = [\"TrialCode\", f\"{phase}-{image} Fix Stdev\"]\n",
    "\n",
    "    df = df.merge(num_fixations, on=\"TrialCode\")\n",
    "    df = df.merge(fix_stdevs, on=\"TrialCode\")\n",
    "\n",
    "    df[f\"Pct {phase}-{image} Fixations\"] /= df[\"Num Fixations\"]"
   ]
  },
  {
   "cell_type": "code",
   "execution_count": 14,
   "metadata": {},
   "outputs": [],
   "source": [
    "# Count the number of times the examiner switched images in a trial\n",
    "fixations_df[\"Image\"] = fixations_df[\"Image\"].map({\"Left\": 0, \"Right\": 1})\n",
    "fixations_df[\"Switched\"] = fixations_df.groupby(\"TrialCode\")[\"Image\"].diff().abs()\n",
    "switches = fixations_df.groupby(\"TrialCode\")[\"Switched\"].sum().reset_index()\n",
    "switches[\"Switched\"] = switches[\"Switched\"].astype(int)\n",
    "\n",
    "# Map image back to \"Left\" and \"Right\"\n",
    "fixations_df[\"Image\"] = fixations_df[\"Image\"].map({0: \"Left\", 1: \"Right\"})\n",
    "\n",
    "# Merge into TrialStats and divide by total fixations\n",
    "df = df.merge(switches, on=\"TrialCode\")\n",
    "df[\"Switched\"] /= ((df[\"Pct C-Left Fixations\"] + df[\"Pct C-Right Fixations\"]) * df[\"Num Fixations\"])"
   ]
  },
  {
   "cell_type": "code",
   "execution_count": 15,
   "metadata": {
    "scrolled": true
   },
   "outputs": [
    {
     "name": "stderr",
     "output_type": "stream",
     "text": [
      "/Users/busey/Box Sync/NoblisEyetracking/WBEyetrackingSecondPaper/DataForSI/PythonCodeForVisualizations/venv/lib/python3.7/site-packages/numpy/core/fromnumeric.py:3373: RuntimeWarning: Mean of empty slice.\n",
      "  out=out, **kwargs)\n",
      "/Users/busey/Box Sync/NoblisEyetracking/WBEyetrackingSecondPaper/DataForSI/PythonCodeForVisualizations/venv/lib/python3.7/site-packages/numpy/core/_methods.py:170: RuntimeWarning: invalid value encountered in double_scalars\n",
      "  ret = ret.dtype.type(ret / rcount)\n"
     ]
    }
   ],
   "source": [
    "# Count average fixations before each switch\n",
    "fixes_before_switch = fixations_df.groupby(\"TrialCode\").apply(compute_fixes_before_switch).reset_index()\n",
    "fixes_before_switch = fixes_before_switch.rename(columns={0: \"FixationsBeforeSwitch\"})\n",
    "\n",
    "df = df.merge(fixes_before_switch, on=\"TrialCode\")"
   ]
  },
  {
   "cell_type": "code",
   "execution_count": 16,
   "metadata": {},
   "outputs": [],
   "source": [
    "# Time spent in phase\n",
    "for phase in [\"A\", \"C\"]:\n",
    "    fixations = fixations_df[fixations_df[\"Phase\"] == phase]\n",
    "    time_in_phase = fixations.groupby(\"TrialCode\")[\"TimeInPhase\"].max().reset_index()\n",
    "    time_in_phase.columns = [\"TrialCode\", f\"Phase {phase} Time\"]\n",
    "    \n",
    "    df = df.merge(time_in_phase, on=\"TrialCode\")"
   ]
  },
  {
   "cell_type": "code",
   "execution_count": 17,
   "metadata": {},
   "outputs": [],
   "source": [
    "# Pct fixations in each Kundel subphase, in comparison phase only\n",
    "subphase_cols = [\"Subphase_Deciding\", \"Subphase_Scanning\", \"Subphase_na\"]\n",
    "fixations = fixations_df[fixations_df[\"Phase\"] == \"C\"]\n",
    "fixes_in_subphase = fixations.groupby(\"TrialCode\")[subphase_cols].sum().reset_index()\n",
    "fixes_in_subphase.columns = [\"TrialCode\", \"Pct Deciding\", \"Pct Scanning\", \"Pct NA\"]\n",
    "df = df.merge(fixes_in_subphase, on=\"TrialCode\")\n",
    "\n",
    "for behavior in [\"Deciding\", \"Scanning\", \"NA\"]:\n",
    "    df[f\"Pct {behavior}\"] /= ((df[\"Pct C-Left Fixations\"] + df[\"Pct C-Right Fixations\"]) * df[\"Num Fixations\"])"
   ]
  },
  {
   "cell_type": "code",
   "execution_count": 18,
   "metadata": {},
   "outputs": [],
   "source": [
    "# Pct in each speed bin\n",
    "fixations_df[\"Speed\"] = pd.cut(\n",
    "    fixations_df[\"Speed\"],\n",
    "    bins=[0, 100, 200, np.inf],\n",
    "    labels=[\"Slow\", \"Medium\", \"Fast\"]\n",
    ")\n",
    "speeds = fixations_df.groupby(\"TrialCode\")[\"Speed\"].value_counts(normalize=True)\n",
    "speeds.name = \"Pct\"\n",
    "speeds = speeds.reset_index().pivot(index=\"TrialCode\", columns=\"Speed\", values=\"Pct\")\n",
    "speeds.columns = [f\"Speed{col}\" for col in speeds.columns]\n",
    "speeds = speeds.fillna(0)\n",
    "\n",
    "df = df.merge(speeds, on=\"TrialCode\")"
   ]
  },
  {
   "cell_type": "code",
   "execution_count": 19,
   "metadata": {},
   "outputs": [],
   "source": [
    "# Pct in each saccade distance bin\n",
    "fixations_df[\"DistanceOfPriorSaccade\"] = pd.cut(\n",
    "    fixations_df[\"DistanceOfPriorSaccade\"],\n",
    "    bins=[0, 88, 176, np.inf],\n",
    "    labels=[\"Short\", \"Medium\", \"Long\"]\n",
    ")\n",
    "saccades = fixations_df.groupby(\"TrialCode\")[\"DistanceOfPriorSaccade\"].value_counts(normalize=True)\n",
    "saccades.name = \"Pct\"\n",
    "saccades = saccades.reset_index().pivot(index=\"TrialCode\", columns=\"DistanceOfPriorSaccade\", values=\"Pct\")\n",
    "saccades.columns = [f\"Saccade{col}\" for col in saccades.columns]\n",
    "saccades = saccades.fillna(0)\n",
    "\n",
    "df = df.merge(saccades, on=\"TrialCode\")"
   ]
  },
  {
   "cell_type": "code",
   "execution_count": 20,
   "metadata": {},
   "outputs": [],
   "source": [
    "# Adjust EMD distances to be in ridge widths\n",
    "emd_cols = [\n",
    "    \"EMDLeftCToRightCSelf\",\n",
    "    \"EMDLeftCToRightCSelfDeciding\",\n",
    "    \"EMDDistanceToCorrect_C_Left\",\n",
    "    \"EMDDistanceToCorrect_C_Right\"\n",
    "]\n",
    "for col in emd_cols:\n",
    "    df[col] *= 8  # image scaled down by 8\n",
    "    df[col] /= 22  # ridge width = 22"
   ]
  },
  {
   "cell_type": "code",
   "execution_count": 21,
   "metadata": {},
   "outputs": [],
   "source": [
    "# Split TrialCode back into ImagePair and Examiner\n",
    "df[[\"ImagePair\", \"Examiner\"]] = df[\"TrialCode\"].str.split(\"_\", expand=True)\n",
    "df = df.drop(columns=\"TrialCode\")"
   ]
  },
  {
   "cell_type": "code",
   "execution_count": 22,
   "metadata": {
    "scrolled": true
   },
   "outputs": [
    {
     "data": {
      "text/html": [
       "<div>\n",
       "<style scoped>\n",
       "    .dataframe tbody tr th:only-of-type {\n",
       "        vertical-align: middle;\n",
       "    }\n",
       "\n",
       "    .dataframe tbody tr th {\n",
       "        vertical-align: top;\n",
       "    }\n",
       "\n",
       "    .dataframe thead th {\n",
       "        text-align: right;\n",
       "    }\n",
       "</style>\n",
       "<table border=\"1\" class=\"dataframe\">\n",
       "  <thead>\n",
       "    <tr style=\"text-align: right;\">\n",
       "      <th></th>\n",
       "      <th>Trial</th>\n",
       "      <th>Prefix</th>\n",
       "      <th>Mating</th>\n",
       "      <th>Conclusion-Simple</th>\n",
       "      <th>Difficulty</th>\n",
       "      <th>Outcome</th>\n",
       "      <th>AllIndvClustLinksFoundBW60</th>\n",
       "      <th>PctClarRedYellow</th>\n",
       "      <th>PctClarGreen</th>\n",
       "      <th>PctClarBlue</th>\n",
       "      <th>...</th>\n",
       "      <th>Pct Scanning</th>\n",
       "      <th>Pct NA</th>\n",
       "      <th>SpeedFast</th>\n",
       "      <th>SpeedMedium</th>\n",
       "      <th>SpeedSlow</th>\n",
       "      <th>SaccadeLong</th>\n",
       "      <th>SaccadeMedium</th>\n",
       "      <th>SaccadeShort</th>\n",
       "      <th>ImagePair</th>\n",
       "      <th>Examiner</th>\n",
       "    </tr>\n",
       "  </thead>\n",
       "  <tbody>\n",
       "    <tr>\n",
       "      <th>0</th>\n",
       "      <td>5</td>\n",
       "      <td>0</td>\n",
       "      <td>Nonmates</td>\n",
       "      <td>Ex</td>\n",
       "      <td>0.25</td>\n",
       "      <td>TN</td>\n",
       "      <td>NaN</td>\n",
       "      <td>0.00000</td>\n",
       "      <td>0.000000</td>\n",
       "      <td>1.000000</td>\n",
       "      <td>...</td>\n",
       "      <td>0.363636</td>\n",
       "      <td>0.636364</td>\n",
       "      <td>0.573770</td>\n",
       "      <td>0.147541</td>\n",
       "      <td>0.278689</td>\n",
       "      <td>0.207792</td>\n",
       "      <td>0.207792</td>\n",
       "      <td>0.584416</td>\n",
       "      <td>CE001</td>\n",
       "      <td>Y503</td>\n",
       "    </tr>\n",
       "    <tr>\n",
       "      <th>1</th>\n",
       "      <td>1</td>\n",
       "      <td>0</td>\n",
       "      <td>Nonmates</td>\n",
       "      <td>Ex</td>\n",
       "      <td>0.00</td>\n",
       "      <td>TN</td>\n",
       "      <td>NaN</td>\n",
       "      <td>0.00000</td>\n",
       "      <td>0.000000</td>\n",
       "      <td>1.000000</td>\n",
       "      <td>...</td>\n",
       "      <td>0.428571</td>\n",
       "      <td>0.500000</td>\n",
       "      <td>0.642857</td>\n",
       "      <td>0.261905</td>\n",
       "      <td>0.095238</td>\n",
       "      <td>0.297872</td>\n",
       "      <td>0.340426</td>\n",
       "      <td>0.361702</td>\n",
       "      <td>CE001</td>\n",
       "      <td>Y506</td>\n",
       "    </tr>\n",
       "    <tr>\n",
       "      <th>2</th>\n",
       "      <td>11</td>\n",
       "      <td>0</td>\n",
       "      <td>Nonmates</td>\n",
       "      <td>ID</td>\n",
       "      <td>0.50</td>\n",
       "      <td>FP</td>\n",
       "      <td>8.0</td>\n",
       "      <td>0.00289</td>\n",
       "      <td>0.144509</td>\n",
       "      <td>0.852601</td>\n",
       "      <td>...</td>\n",
       "      <td>0.131720</td>\n",
       "      <td>0.442204</td>\n",
       "      <td>0.445619</td>\n",
       "      <td>0.274924</td>\n",
       "      <td>0.279456</td>\n",
       "      <td>0.082718</td>\n",
       "      <td>0.175775</td>\n",
       "      <td>0.741507</td>\n",
       "      <td>CE001</td>\n",
       "      <td>Y507</td>\n",
       "    </tr>\n",
       "    <tr>\n",
       "      <th>3</th>\n",
       "      <td>10</td>\n",
       "      <td>0</td>\n",
       "      <td>Nonmates</td>\n",
       "      <td>Ex</td>\n",
       "      <td>0.00</td>\n",
       "      <td>TN</td>\n",
       "      <td>4.0</td>\n",
       "      <td>0.00000</td>\n",
       "      <td>0.093023</td>\n",
       "      <td>0.906977</td>\n",
       "      <td>...</td>\n",
       "      <td>0.123596</td>\n",
       "      <td>0.370787</td>\n",
       "      <td>0.544304</td>\n",
       "      <td>0.202532</td>\n",
       "      <td>0.253165</td>\n",
       "      <td>0.123457</td>\n",
       "      <td>0.197531</td>\n",
       "      <td>0.679012</td>\n",
       "      <td>CE001</td>\n",
       "      <td>Y513</td>\n",
       "    </tr>\n",
       "    <tr>\n",
       "      <th>4</th>\n",
       "      <td>1</td>\n",
       "      <td>0</td>\n",
       "      <td>Nonmates</td>\n",
       "      <td>Ex</td>\n",
       "      <td>0.00</td>\n",
       "      <td>TN</td>\n",
       "      <td>0.0</td>\n",
       "      <td>0.00000</td>\n",
       "      <td>0.000000</td>\n",
       "      <td>1.000000</td>\n",
       "      <td>...</td>\n",
       "      <td>0.291667</td>\n",
       "      <td>0.708333</td>\n",
       "      <td>0.470588</td>\n",
       "      <td>0.147059</td>\n",
       "      <td>0.382353</td>\n",
       "      <td>0.175676</td>\n",
       "      <td>0.202703</td>\n",
       "      <td>0.621622</td>\n",
       "      <td>CE001</td>\n",
       "      <td>Y516</td>\n",
       "    </tr>\n",
       "  </tbody>\n",
       "</table>\n",
       "<p>5 rows × 45 columns</p>\n",
       "</div>"
      ],
      "text/plain": [
       "   Trial  Prefix    Mating Conclusion-Simple  Difficulty Outcome  \\\n",
       "0      5       0  Nonmates                Ex        0.25      TN   \n",
       "1      1       0  Nonmates                Ex        0.00      TN   \n",
       "2     11       0  Nonmates                ID        0.50      FP   \n",
       "3     10       0  Nonmates                Ex        0.00      TN   \n",
       "4      1       0  Nonmates                Ex        0.00      TN   \n",
       "\n",
       "   AllIndvClustLinksFoundBW60  PctClarRedYellow  PctClarGreen  PctClarBlue  \\\n",
       "0                         NaN           0.00000      0.000000     1.000000   \n",
       "1                         NaN           0.00000      0.000000     1.000000   \n",
       "2                         8.0           0.00289      0.144509     0.852601   \n",
       "3                         4.0           0.00000      0.093023     0.906977   \n",
       "4                         0.0           0.00000      0.000000     1.000000   \n",
       "\n",
       "   ...  Pct Scanning    Pct NA  SpeedFast  SpeedMedium  SpeedSlow  \\\n",
       "0  ...      0.363636  0.636364   0.573770     0.147541   0.278689   \n",
       "1  ...      0.428571  0.500000   0.642857     0.261905   0.095238   \n",
       "2  ...      0.131720  0.442204   0.445619     0.274924   0.279456   \n",
       "3  ...      0.123596  0.370787   0.544304     0.202532   0.253165   \n",
       "4  ...      0.291667  0.708333   0.470588     0.147059   0.382353   \n",
       "\n",
       "   SaccadeLong  SaccadeMedium  SaccadeShort  ImagePair  Examiner  \n",
       "0     0.207792       0.207792      0.584416      CE001      Y503  \n",
       "1     0.297872       0.340426      0.361702      CE001      Y506  \n",
       "2     0.082718       0.175775      0.741507      CE001      Y507  \n",
       "3     0.123457       0.197531      0.679012      CE001      Y513  \n",
       "4     0.175676       0.202703      0.621622      CE001      Y516  \n",
       "\n",
       "[5 rows x 45 columns]"
      ]
     },
     "execution_count": 22,
     "metadata": {},
     "output_type": "execute_result"
    }
   ],
   "source": [
    "df.head()"
   ]
  },
  {
   "cell_type": "code",
   "execution_count": 23,
   "metadata": {},
   "outputs": [
    {
     "name": "stdout",
     "output_type": "stream",
     "text": [
      "Null values in 1229 rows\n",
      "\n",
      "Difficulty\n",
      "AllIndvClustLinksFoundBW60\n",
      "PctClarRedYellow\n",
      "PctClarGreen\n",
      "PctClarBlue\n",
      "EMDDistanceToCorrect_C_Left\n",
      "EMDDistanceToCorrect_C_Right\n",
      "EMDDistanceJustDecidingToCorrect_C_Left\n",
      "EMDDistanceJustDecidingToCorrect_C_Right\n",
      "EMDLeftCToRightCSelfDeciding\n",
      "AveDeviationFromGroundTruthTempSeqFits_Detail_JstUnq_NormTransMat_NoClusterPrune_BW66_Thresh0.3InRidgeWidths\n",
      "AveDeviationFromGroundTruthTempSeqFits_Detail_JstUnq_NormTransMat_NoClusterPrune_BW66_Thresh0.3\n",
      "AnalysisPropFixNearWBMinutiaK=22\n",
      "ComparisonPropFixNearWBMinutiaK=22\n"
     ]
    }
   ],
   "source": [
    "# Check for null values\n",
    "rows_with_null = df[df.isna().any(axis=1)].shape[0]\n",
    "if rows_with_null:\n",
    "    print(f\"Null values in {rows_with_null} rows\\n\")\n",
    "    for col_with_nulls in df.columns[df.isna().any(axis=0)]:\n",
    "        print(col_with_nulls)\n",
    "else:\n",
    "    print(\"No null values :)\")    "
   ]
  },
  {
   "cell_type": "code",
   "execution_count": 24,
   "metadata": {},
   "outputs": [],
   "source": [
    "df.to_csv(os.path.join(\"..\", \"data\", \"cleaned_data.csv\"), index=False)"
   ]
  },
  {
   "cell_type": "code",
   "execution_count": 25,
   "metadata": {},
   "outputs": [
    {
     "data": {
      "text/plain": [
       "Prefix  Outcome\n",
       "0       FP           4\n",
       "        TN         300\n",
       "        TP         243\n",
       "1       FN         178\n",
       "        FP           6\n",
       "        Inc        356\n",
       "        TN         434\n",
       "        TP         250\n",
       "dtype: int64"
      ]
     },
     "execution_count": 25,
     "metadata": {},
     "output_type": "execute_result"
    }
   ],
   "source": [
    "df.groupby([\"Prefix\", \"Outcome\"]).size()"
   ]
  }
 ],
 "metadata": {
  "kernelspec": {
   "display_name": "Python 3",
   "language": "python",
   "name": "python3"
  },
  "language_info": {
   "codemirror_mode": {
    "name": "ipython",
    "version": 3
   },
   "file_extension": ".py",
   "mimetype": "text/x-python",
   "name": "python",
   "nbconvert_exporter": "python",
   "pygments_lexer": "ipython3",
   "version": "3.7.6"
  }
 },
 "nbformat": 4,
 "nbformat_minor": 4
}
